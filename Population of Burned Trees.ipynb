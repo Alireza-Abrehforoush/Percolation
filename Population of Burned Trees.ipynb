{
 "cells": [
  {
   "cell_type": "code",
   "execution_count": null,
   "metadata": {},
   "outputs": [],
   "source": [
    "import numpy as np\n",
    "import pandas as pd\n",
    "import matplotlib.pyplot as plt"
   ]
  },
  {
   "cell_type": "code",
   "execution_count": null,
   "metadata": {},
   "outputs": [],
   "source": [
    "df = pd.read_csv('data3.csv')"
   ]
  },
  {
   "cell_type": "code",
   "execution_count": null,
   "metadata": {},
   "outputs": [],
   "source": [
    "grouped = df.groupby(['L/2', 'density', 'probability_of_spread', 'south_wind_speed', 'west_wind_speed', 'big-jumps'])\n",
    "\n",
    "# Calculate the average of 'percentage-burned' within each group\n",
    "df_avg = grouped['percentage-burned'].mean().reset_index()"
   ]
  },
  {
   "cell_type": "code",
   "execution_count": null,
   "metadata": {},
   "outputs": [],
   "source": [
    "list_of_l_2 = [150, 200, 250, 300, 350, 400, 450, 500]\n",
    "list_of_density = [10, 20, 30, 40, 50, 60, 70]\n",
    "\n",
    "# Define a colormap\n",
    "colormap = plt.cm.get_cmap('viridis', len(list_of_density))\n",
    "\n",
    "# Initialize a figure and axis\n",
    "plt.figure(figsize=(20, 12))\n",
    "ax = plt.subplot(1, 1, 1)\n",
    "\n",
    "for index, i in enumerate(list_of_density):\n",
    "    # Filter conditions\n",
    "    filtered_result = df_avg[\n",
    "        (df_avg['density'] == i) &\n",
    "        (df_avg['probability_of_spread'] == 100) &\n",
    "        (df_avg['south_wind_speed'] == 0) &\n",
    "        (df_avg['west_wind_speed'] == 0) &\n",
    "        (df_avg['big-jumps'] == False)\n",
    "    ]\n",
    "\n",
    "    # Data\n",
    "    x = np.log(2 * filtered_result['L/2'])\n",
    "    y = np.log(filtered_result['percentage-burned'] * filtered_result['density'] * 4 * filtered_result['L/2'] * filtered_result['L/2'] / 10000)\n",
    "    \n",
    "    # Perform linear regression\n",
    "    coeffs = np.polyfit(x, y, 1)\n",
    "    regression_line = np.polyval(coeffs, x)\n",
    "    #print(\"Slope Corresponding to the Line of Density of \" + str(i) + \"%:\" + str(coeffs[0]))\n",
    "\n",
    "    # Get the color for this iteration using modulo\n",
    "    color = color=colormap(index)\n",
    "\n",
    "    # Plot the data points\n",
    "    ax.scatter(x, y, color=color, label=f'Density = {i}%, Slope = {coeffs[0]}')\n",
    "\n",
    "    # Plot the regression line\n",
    "    ax.plot(x, regression_line, color=color, linestyle='dashed')\n",
    "\n",
    "    # Add labels and legend\n",
    "ax.set_xlabel('log(L)')\n",
    "ax.set_ylabel('log(Population of Burned Trees)')\n",
    "ax.set_title('Linear Regression Analysis')\n",
    "ax.legend(fontsize='large')\n",
    "\n",
    "# Save the plot\n",
    "plt.grid(True)\n",
    "plt.savefig(\"./Population of Burned Trees.png\")\n",
    "\n",
    "# Show the plot\n",
    "plt.show()\n"
   ]
  }
 ],
 "metadata": {
  "kernelspec": {
   "display_name": "Python 3",
   "language": "python",
   "name": "python3"
  },
  "language_info": {
   "codemirror_mode": {
    "name": "ipython",
    "version": 3
   },
   "file_extension": ".py",
   "mimetype": "text/x-python",
   "name": "python",
   "nbconvert_exporter": "python",
   "pygments_lexer": "ipython3",
   "version": "3.9.13"
  },
  "orig_nbformat": 4
 },
 "nbformat": 4,
 "nbformat_minor": 2
}
