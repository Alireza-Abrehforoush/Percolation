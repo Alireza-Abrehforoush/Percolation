{
 "cells": [
  {
   "cell_type": "code",
   "execution_count": null,
   "metadata": {},
   "outputs": [],
   "source": [
    "import numpy as np\n",
    "import pandas as pd\n",
    "import os\n",
    "import pynetlogo\n",
    "from tqdm import tqdm\n",
    "import networkx as nx"
   ]
  },
  {
   "cell_type": "code",
   "execution_count": null,
   "metadata": {},
   "outputs": [],
   "source": [
    "def getGiantComponentSize():\n",
    "    world = netlogo.report(\"getAllPatchesColors\")\n",
    "    k_values = world[:, 2]\n",
    "    mask = k_values == 11.5\n",
    "    burned_world = world[mask]\n",
    "    # Create a new NetworkX graph\n",
    "    G = nx.Graph()\n",
    "    # Add nodes (vertices) to the graph\n",
    "    for element in burned_world:\n",
    "        G.add_node(tuple([element[0], element[1]]))\n",
    "\n",
    "    for node in G.nodes():\n",
    "        (i, j) = node\n",
    "        node1 = (i + 1, j)\n",
    "        node2 = (i - 1, j)\n",
    "        node3 = (i, j + 1)\n",
    "        node4 = (i, j - 1)\n",
    "        if node1 in G.nodes():\n",
    "            G.add_edge(node, node1)\n",
    "        if node2 in G.nodes():\n",
    "            G.add_edge(node, node2)\n",
    "        if node3 in G.nodes():\n",
    "            G.add_edge(node, node3)\n",
    "        if node4 in G.nodes():\n",
    "            G.add_edge(node, node4)\n",
    "    component_sizes = [len(c) for c in sorted(nx.connected_components(G), key=len, reverse=True)]\n",
    "    return component_sizes[0]"
   ]
  },
  {
   "cell_type": "code",
   "execution_count": null,
   "metadata": {},
   "outputs": [],
   "source": [
    "data = {\n",
    "    'L/2': [],\n",
    "    'density': [],\n",
    "    'probability_of_spread': [],\n",
    "    'south_wind_speed': [],\n",
    "    'west_wind_speed': [],\n",
    "    'big_jumps': [],\n",
    "    'percentage_burned': [],\n",
    "    'giant_component': []\n",
    "}\n",
    "\n",
    "df = pd.DataFrame(data)\n",
    "print(df)"
   ]
  },
  {
   "cell_type": "code",
   "execution_count": null,
   "metadata": {},
   "outputs": [],
   "source": [
    "# Initialize pynetlogo\n",
    "netlogo = pynetlogo.NetLogoLink(\n",
    "    gui=True,\n",
    "    jvm_path=\"C:\\\\Program Files\\\\Java\\\\jdk-20\\\\bin\\\\server\\\\jvm.dll\",  # Update with the correct path to your JDK's jvm.dll\n",
    ")\n",
    "# Load the \"Fire Simple Extension 3\" model from the NetLogo Model Library\n",
    "netlogo.load_model(\"C:\\\\Program Files\\\\NetLogo 6.3.0\\\\models\\\\IABM Textbook\\\\chapter 3\\\\Fire Extensions\\\\Fire Simple Extension 3.nlogo\")\n"
   ]
  },
  {
   "cell_type": "code",
   "execution_count": null,
   "metadata": {},
   "outputs": [],
   "source": [
    "##### Add the following code to netlogo...\n",
    "# to-report getAllPatchesColors\n",
    "#   let color-list []\n",
    "#   ask patches [\n",
    "#     let patch-info (list pxcor pycor pcolor)\n",
    "#     set color-list lput patch-info color-list\n",
    "#   ]\n",
    "#   report color-list\n",
    "# end"
   ]
  },
  {
   "cell_type": "code",
   "execution_count": null,
   "metadata": {},
   "outputs": [],
   "source": [
    "n = 3\n",
    "list_of_l_2 = [450]\n",
    "list_of_big_jump = [\"false\", \"true\"]\n",
    "list_of_south_wind_speed = [-20, -10, 0, 10, 20]\n",
    "list_of_west_wind_speed = [-20, -10, 0, 10, 20]\n",
    "list_of_probability_of_spread = [20, 40, 60, 80, 100]\n",
    "list_of_density = [10, 20, 30, 40, 50, 60, 70, 80, 90]\n",
    "\n",
    "total_data = n * len(list_of_l_2) * len(list_of_big_jump) * len(list_of_south_wind_speed) * len(list_of_west_wind_speed) * len(list_of_density) * len(list_of_probability_of_spread)\n",
    "pbar = tqdm(total=total_data, desc='Adding data', unit='data')\n",
    "\n",
    "for i in range(n):\n",
    "    for l_2 in list_of_l_2:\n",
    "        netlogo.command(\"resize-world \" + str(-l_2) + \" \" + str(l_2) + \" \" + str(-l_2) + \" \" + str(l_2))\n",
    "        for big_jump in list_of_big_jump:\n",
    "            for south_wind_speed in list_of_south_wind_speed:\n",
    "                for west_wind_speed in list_of_west_wind_speed:\n",
    "                    for probability_of_spread in list_of_probability_of_spread:\n",
    "                        for density in list_of_density:\n",
    "                            netlogo.command(\"set big-jumps? \" + big_jump)\n",
    "                            netlogo.command(\"set south-wind-speed \" + str(south_wind_speed))\n",
    "                            netlogo.command(\"set west-wind-speed \" + str(west_wind_speed))\n",
    "                            netlogo.command(\"set probability-of-spread \" + str(probability_of_spread))\n",
    "                            netlogo.command(\"set density \" + str(density))\n",
    "                            netlogo.command(\"setup\")\n",
    "                            old_ticks = netlogo.report(\"ticks\")\n",
    "                            while (True):\n",
    "                                netlogo.command(\"go\")\n",
    "                                current_ticks = netlogo.report(\"ticks\")\n",
    "                                if (old_ticks == current_ticks):\n",
    "                                    break\n",
    "                                else:\n",
    "                                    old_ticks = current_ticks\n",
    "                            percentage_burned = netlogo.report(\"((count patches with [shade-of? pcolor red]) / initial-trees) * 100\")\n",
    "                            giant_component = getGiantComponentSize()\n",
    "                            new_row = {\n",
    "                                'L/2': l_2,\n",
    "                                'density': density,\n",
    "                                'probability_of_spread': probability_of_spread,\n",
    "                                'south_wind_speed': south_wind_speed,\n",
    "                                'west_wind_speed': west_wind_speed,\n",
    "                                'big_jumps': big_jump,\n",
    "                                'percentage_burned': percentage_burned,\n",
    "                                'giant_component': giant_component\n",
    "                            }\n",
    "                            # Append the new row to the DataFrame\n",
    "                            df = df.append(new_row, ignore_index=True)\n",
    "                            pbar.update(1)"
   ]
  },
  {
   "cell_type": "code",
   "execution_count": null,
   "metadata": {},
   "outputs": [],
   "source": [
    "df.to_csv(\"giant_main.csv\")"
   ]
  }
 ],
 "metadata": {
  "kernelspec": {
   "display_name": "Python 3",
   "language": "python",
   "name": "python3"
  },
  "language_info": {
   "codemirror_mode": {
    "name": "ipython",
    "version": 3
   },
   "file_extension": ".py",
   "mimetype": "text/x-python",
   "name": "python",
   "nbconvert_exporter": "python",
   "pygments_lexer": "ipython3",
   "version": "3.9.13"
  },
  "orig_nbformat": 4
 },
 "nbformat": 4,
 "nbformat_minor": 2
}
