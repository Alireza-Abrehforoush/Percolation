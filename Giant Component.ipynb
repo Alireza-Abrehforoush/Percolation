{
 "cells": [
  {
   "cell_type": "code",
   "execution_count": null,
   "metadata": {},
   "outputs": [],
   "source": [
    "import numpy as np\n",
    "import pandas as pd\n",
    "import os\n",
    "import pynetlogo\n",
    "from tqdm import tqdm\n",
    "import networkx as nx\n",
    "import matplotlib.pyplot as plt\n",
    "from sklearn.linear_model import LinearRegression"
   ]
  },
  {
   "cell_type": "markdown",
   "metadata": {},
   "source": [
    "### Data Generation Process (Skip if you have data)"
   ]
  },
  {
   "cell_type": "code",
   "execution_count": null,
   "metadata": {},
   "outputs": [],
   "source": [
    "def getGiantComponentSize():\n",
    "    world = netlogo.report(\"getAllPatchesColors\")\n",
    "    k_values = world[:, 2]\n",
    "    mask = k_values == 11.5\n",
    "    burned_world = world[mask]\n",
    "    # Create a new NetworkX graph\n",
    "    G = nx.Graph()\n",
    "    # Add nodes (vertices) to the graph\n",
    "    for element in burned_world:\n",
    "        G.add_node(tuple([element[0], element[1]]))\n",
    "\n",
    "    for node in G.nodes():\n",
    "        (i, j) = node\n",
    "        node1 = (i + 1, j)\n",
    "        node2 = (i - 1, j)\n",
    "        node3 = (i, j + 1)\n",
    "        node4 = (i, j - 1)\n",
    "        if node1 in G.nodes():\n",
    "            G.add_edge(node, node1)\n",
    "        if node2 in G.nodes():\n",
    "            G.add_edge(node, node2)\n",
    "        if node3 in G.nodes():\n",
    "            G.add_edge(node, node3)\n",
    "        if node4 in G.nodes():\n",
    "            G.add_edge(node, node4)\n",
    "    component_sizes = [len(c) for c in sorted(nx.connected_components(G), key=len, reverse=True)]\n",
    "    return component_sizes[0]"
   ]
  },
  {
   "cell_type": "code",
   "execution_count": null,
   "metadata": {},
   "outputs": [],
   "source": [
    "data = {\n",
    "    'L/2': [],\n",
    "    'density': [],\n",
    "    'probability_of_spread': [],\n",
    "    'south_wind_speed': [],\n",
    "    'west_wind_speed': [],\n",
    "    'big_jumps': [],\n",
    "    'percentage_burned': [],\n",
    "    'giant_component': []\n",
    "}\n",
    "\n",
    "df = pd.DataFrame(data)\n",
    "print(df)"
   ]
  },
  {
   "cell_type": "code",
   "execution_count": null,
   "metadata": {},
   "outputs": [],
   "source": [
    "# Initialize pynetlogo\n",
    "netlogo = pynetlogo.NetLogoLink(\n",
    "    gui=True,\n",
    "    jvm_path=\"C:\\\\Program Files\\\\Java\\\\jdk-20\\\\bin\\\\server\\\\jvm.dll\",  # Update with the correct path to your JDK's jvm.dll\n",
    ")\n",
    "# Load the \"Fire Simple Extension 3\" model from the NetLogo Model Library\n",
    "netlogo.load_model(\"C:\\\\Program Files\\\\NetLogo 6.3.0\\\\models\\\\IABM Textbook\\\\chapter 3\\\\Fire Extensions\\\\Fire Simple Extension 3.nlogo\")\n"
   ]
  },
  {
   "cell_type": "code",
   "execution_count": null,
   "metadata": {},
   "outputs": [],
   "source": [
    "##### Add the following code to netlogo...\n",
    "# to-report getAllPatchesColors\n",
    "#   let color-list []\n",
    "#   ask patches [\n",
    "#     let patch-info (list pxcor pycor pcolor)\n",
    "#     set color-list lput patch-info color-list\n",
    "#   ]\n",
    "#   report color-list\n",
    "# end"
   ]
  },
  {
   "cell_type": "code",
   "execution_count": null,
   "metadata": {},
   "outputs": [],
   "source": [
    "n = 3\n",
    "list_of_l_2 = [50 * i for i in range(1, 11)]\n",
    "list_of_density = [10, 20, 30, 40, 50, 60, 70, 80, 90]\n",
    "big_jump = \"false\"\n",
    "south_wind_speed = 0\n",
    "west_wind_speed = 0\n",
    "probability_of_spread = 100"
   ]
  },
  {
   "cell_type": "code",
   "execution_count": null,
   "metadata": {},
   "outputs": [],
   "source": [
    "total_data = n * len(list_of_l_2) * len(list_of_density)\n",
    "pbar = tqdm(total=total_data, desc='Adding data', unit='data')\n",
    "for i in range(n):\n",
    "    for l_2 in list_of_l_2:\n",
    "        netlogo.command(\"resize-world \" + str(-l_2) + \" \" + str(l_2) + \" \" + str(-l_2) + \" \" + str(l_2))\n",
    "        for density in list_of_density:\n",
    "            netlogo.command(\"set big-jumps? \" + big_jump)\n",
    "            netlogo.command(\"set south-wind-speed \" + str(south_wind_speed))\n",
    "            netlogo.command(\"set west-wind-speed \" + str(west_wind_speed))\n",
    "            netlogo.command(\"set probability-of-spread \" + str(probability_of_spread))\n",
    "            netlogo.command(\"set density \" + str(density))\n",
    "            netlogo.command(\"setup\")\n",
    "            old_ticks = netlogo.report(\"ticks\")\n",
    "            while (True):\n",
    "                netlogo.command(\"go\")\n",
    "                current_ticks = netlogo.report(\"ticks\")\n",
    "                if (old_ticks == current_ticks):\n",
    "                    break\n",
    "                else:\n",
    "                    old_ticks = current_ticks\n",
    "            percentage_burned = netlogo.report(\"((count patches with [shade-of? pcolor red]) / initial-trees) * 100\")\n",
    "            giant_component = getGiantComponentSize()\n",
    "            new_row = {\n",
    "                'L/2': l_2,\n",
    "                'density': density,\n",
    "                'probability_of_spread': probability_of_spread,\n",
    "                'south_wind_speed': south_wind_speed,\n",
    "                'west_wind_speed': west_wind_speed,\n",
    "                'big_jumps': big_jump,\n",
    "                'percentage_burned': percentage_burned,\n",
    "                'giant_component': giant_component\n",
    "            }\n",
    "            # Append the new row to the DataFrame\n",
    "            df = df.append(new_row, ignore_index=True)\n",
    "            pbar.update(1)"
   ]
  },
  {
   "cell_type": "markdown",
   "metadata": {},
   "source": [
    "### Data Analysis (Just run this section if you have the data)"
   ]
  },
  {
   "cell_type": "code",
   "execution_count": null,
   "metadata": {},
   "outputs": [],
   "source": [
    "import numpy as np\n",
    "import pandas as pd\n",
    "import os\n",
    "import pynetlogo\n",
    "from tqdm import tqdm\n",
    "import networkx as nx\n",
    "import matplotlib.pyplot as plt\n",
    "from sklearn.linear_model import LinearRegression"
   ]
  },
  {
   "cell_type": "code",
   "execution_count": null,
   "metadata": {},
   "outputs": [],
   "source": [
    "n = 3\n",
    "list_of_l_2 = [50 * i for i in range(1, 11)]\n",
    "list_of_density = [10, 20, 30, 40, 50, 60, 70, 80, 90]\n",
    "big_jump = \"false\"\n",
    "south_wind_speed = 0\n",
    "west_wind_speed = 0\n",
    "probability_of_spread = 100"
   ]
  },
  {
   "cell_type": "code",
   "execution_count": null,
   "metadata": {},
   "outputs": [],
   "source": [
    "df = pd.read_csv('giant_main_[10, 20, 30, 40, 50, 60, 70, 80, 90].csv')"
   ]
  },
  {
   "cell_type": "code",
   "execution_count": null,
   "metadata": {},
   "outputs": [],
   "source": [
    "grouped = df.groupby(['L/2', 'density', 'probability_of_spread', 'south_wind_speed', 'west_wind_speed', 'big_jumps'])\n",
    "\n",
    "# Calculate the average of 'percentage-burned' within each group\n",
    "df_avg = grouped['giant_component'].mean().reset_index()"
   ]
  },
  {
   "cell_type": "code",
   "execution_count": null,
   "metadata": {},
   "outputs": [],
   "source": [
    "# Define colors for each value of i\n",
    "colormap = plt.cm.get_cmap('viridis', len(list_of_density))\n",
    "\n",
    "# Initialize a figure and axis\n",
    "plt.figure(figsize=(20, 12))\n",
    "ax = plt.subplot(1, 1, 1)\n",
    "\n",
    "# Loop through each value of i\n",
    "for index, i in enumerate(list_of_density):\n",
    "    # Filter conditions\n",
    "    filtered_result = df_avg[\n",
    "        (df_avg['density'] == i) &\n",
    "        (df_avg['probability_of_spread'] == 100) &\n",
    "        (df_avg['south_wind_speed'] == 0) &\n",
    "        (df_avg['west_wind_speed'] == 0) &\n",
    "        (df_avg['big_jumps'] == False)\n",
    "    ]\n",
    "\n",
    "    # Data\n",
    "    x = np.log(2 * filtered_result['L/2'])\n",
    "    y = np.log(filtered_result['giant_component'])\n",
    "\n",
    "    # Perform linear regression\n",
    "    coeffs = np.polyfit(x, y, 1)\n",
    "    regression_line = np.polyval(coeffs, x)\n",
    "    #print(\"Slope Corresponding to the Line of Density of \" + str(i) + \"%:\" + str(coeffs[0]))\n",
    "\n",
    "    # Get the color for this iteration using modulo\n",
    "    color = color=colormap(index)\n",
    "\n",
    "    # Plot the data points\n",
    "    ax.scatter(x, y, color=color, label=f'Density = {i}%, Slope = {coeffs[0]}')\n",
    "\n",
    "    # Plot the regression line\n",
    "    ax.plot(x, regression_line, color=color, linestyle='dashed')\n",
    "\n",
    "# Add labels and legend\n",
    "ax.set_xlabel('log(L)')\n",
    "ax.set_ylabel('log(Giant Component)')\n",
    "ax.set_title('Linear Regression Analysis')\n",
    "ax.legend(fontsize='large')\n",
    "\n",
    "# Save the plot\n",
    "plt.grid(True)\n",
    "plt.savefig(\"./Giant Component.png\")\n",
    "\n",
    "# Show the plot\n",
    "plt.show()\n"
   ]
  }
 ],
 "metadata": {
  "kernelspec": {
   "display_name": "Python 3",
   "language": "python",
   "name": "python3"
  },
  "language_info": {
   "codemirror_mode": {
    "name": "ipython",
    "version": 3
   },
   "file_extension": ".py",
   "mimetype": "text/x-python",
   "name": "python",
   "nbconvert_exporter": "python",
   "pygments_lexer": "ipython3",
   "version": "3.9.13"
  },
  "orig_nbformat": 4
 },
 "nbformat": 4,
 "nbformat_minor": 2
}
